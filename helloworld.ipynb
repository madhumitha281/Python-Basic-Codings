{
 "cells": [
  {
   "cell_type": "code",
   "execution_count": 1,
   "metadata": {},
   "outputs": [
    {
     "name": "stdout",
     "output_type": "stream",
     "text": [
      "Hi\n",
      "May I know your name?\n"
     ]
    }
   ],
   "source": [
    "# \"time\"\n",
    "import time\n",
    "\n",
    "print(\"Hi\")\n",
    "time.sleep(5)\n",
    "print(\"May I know your name?\")"
   ]
  },
  {
   "cell_type": "code",
   "execution_count": 3,
   "metadata": {},
   "outputs": [
    {
     "name": "stdout",
     "output_type": "stream",
     "text": [
      "sum of a and b is:  10\n"
     ]
    }
   ],
   "source": [
    "a = int(input(\"Enter num1: \"))\n",
    "b = int(input(\"Enter num2: \"))\n",
    "print(\"sum of a and b is: \", a+b)"
   ]
  },
  {
   "cell_type": "code",
   "execution_count": 4,
   "metadata": {},
   "outputs": [
    {
     "name": "stdout",
     "output_type": "stream",
     "text": [
      "Hello madhumitha, here is how to cook pasta\n",
      "Boil some water\n",
      "wait for 5 min\n",
      "Add salt, Pasta\n",
      "Cook for 10 min and remove the water\n",
      "Done!\n"
     ]
    }
   ],
   "source": [
    "#Pasta Recipe Instructions:\n",
    "import time\n",
    "\n",
    "n = input(\"Hey! what's your name?: \")\n",
    "\n",
    "print(\"Hello {}, here is how to cook pasta\".format(n))\n",
    "time.sleep(2)\n",
    "print(\"Boil some water\")\n",
    "time.sleep(2)\n",
    "print(\"wait for 5 min\")\n",
    "time.sleep(2)\n",
    "print(\"Add salt, Pasta\")\n",
    "time.sleep(2)\n",
    "print(\"Cook for 10 min and remove the water\")\n",
    "time.sleep(3)\n",
    "print(\"Done!\")"
   ]
  },
  {
   "cell_type": "code",
   "execution_count": 5,
   "metadata": {},
   "outputs": [
    {
     "name": "stdout",
     "output_type": "stream",
     "text": [
      "3\n"
     ]
    }
   ],
   "source": [
    "#sum of two numbers\n",
    "a=int(input(\"enter a: \"))\n",
    "b=int(input(\"enter b: \"))\n",
    "c=a+b\n",
    "print(c)"
   ]
  },
  {
   "cell_type": "code",
   "execution_count": 4,
   "metadata": {},
   "outputs": [
    {
     "name": "stdout",
     "output_type": "stream",
     "text": [
      "Your username is madhumitha and your email id is madhumitha@gmail.com\n"
     ]
    }
   ],
   "source": [
    "#creating email address\n",
    "\n",
    "a=input(\"Enter firstname: \")\n",
    "b=input(\"Enter lastname: \")\n",
    "u=a+b\n",
    "e=u+'@'+'gmail.com'\n",
    "print(\"Your username is {} and your email id is {}\".format(u,e))\n"
   ]
  },
  {
   "cell_type": "code",
   "execution_count": 9,
   "metadata": {},
   "outputs": [
    {
     "name": "stdout",
     "output_type": "stream",
     "text": [
      "In normal if else condition the output is: \n",
      "Not Equal\n",
      "Ternary operator output:  Not Equal\n",
      "Using lamda function:  False\n"
     ]
    }
   ],
   "source": [
    "#comparing user strings\n",
    "\n",
    "a=input(\"Enter a: \")\n",
    "b=input(\"Enter b: \")\n",
    "#normal if else statement\n",
    "print(\"In normal if else condition the output is: \")\n",
    "if(a==b):\n",
    "    print(\"Equal\")\n",
    "else:\n",
    "    print(\"Not Equal\")\n",
    "#ternary operator\n",
    "compare = (\"equal\") if a==b else (\"Not Equal\")\n",
    "print(\"Ternary operator output: \",compare)\n",
    "#lambda funtion\n",
    "lam = lambda a,b:a==b\n",
    "print(\"Using lamda function: \",lam(a,b))\n"
   ]
  },
  {
   "cell_type": "code",
   "execution_count": 10,
   "metadata": {},
   "outputs": [
    {
     "name": "stdout",
     "output_type": "stream",
     "text": [
      "Simple interest for principle 1000, Time 1.0 and Rate 5.0 is 50.0\n"
     ]
    }
   ],
   "source": [
    "#SI simple interest is calculated using formula, SI = P*T*R/100\n",
    "#use Fstrings => syntax => ex: name=\"madhu\" print(f\"Hello {madhu}\") => output is Hello madhu\n",
    "P = int(input(\"Enter the  amount you deposited or borowed: \"))\n",
    "T = float(input(\"Enter the years: \"))\n",
    "R = float(input(\"Enter the rate of interest: \"))\n",
    "SI = P*T*R/100\n",
    "print(f\"Simple interest for principle {P}, Time {T} and Rate {R} is {SI}\")"
   ]
  },
  {
   "cell_type": "code",
   "execution_count": 12,
   "metadata": {},
   "outputs": [
    {
     "name": "stdout",
     "output_type": "stream",
     "text": [
      "your BMI is 28.67262607522348\n"
     ]
    }
   ],
   "source": [
    "#BMI calculator\n",
    "H = float(input(\"Enter the height: \"))\n",
    "W = float(input(\"Enter the weight: \"))\n",
    "BMI = W/(H**2)\n",
    "print(f\"your BMI is {BMI}\")"
   ]
  },
  {
   "cell_type": "code",
   "execution_count": null,
   "metadata": {},
   "outputs": [],
   "source": []
  }
 ],
 "metadata": {
  "kernelspec": {
   "display_name": "Python 3",
   "language": "python",
   "name": "python3"
  },
  "language_info": {
   "codemirror_mode": {
    "name": "ipython",
    "version": 3
   },
   "file_extension": ".py",
   "mimetype": "text/x-python",
   "name": "python",
   "nbconvert_exporter": "python",
   "pygments_lexer": "ipython3",
   "version": "3.12.4"
  }
 },
 "nbformat": 4,
 "nbformat_minor": 2
}
