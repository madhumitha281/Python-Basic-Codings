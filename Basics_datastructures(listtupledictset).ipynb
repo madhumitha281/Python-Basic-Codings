{
 "cells": [
  {
   "cell_type": "code",
   "execution_count": 20,
   "metadata": {},
   "outputs": [
    {
     "name": "stdout",
     "output_type": "stream",
     "text": [
      "I have selected some of the elements like white in 0, grey in -1 or 9, red in 4 th or -6.\n",
      "I sliced from index 0 to 4 which resulted in ['white', 'orange', 'pink', 'yellow', 'red'].\n",
      "using negative index I would like to print from last five elements ['blue', 'green', 'brown', 'black', 'grey']\n",
      "slicing [0:5:2] => ['white', 'yellow']\n"
     ]
    }
   ],
   "source": [
    "#List =>     0        1        2         3       4       5        6        7        8       9\n",
    "colors = ['white', 'orange', 'pink', 'yellow', 'red', 'blue', 'green', 'brown', 'black', 'grey']\n",
    "#           -10      -9       -8        -7       -6      -5      -4      -3       -2       -1\n",
    "# you can have negative indexing too like above\n",
    "# you can have different datatypes in a single list.\n",
    "Humans = ['Madhu', 68, 1.54, 'Krishna', 85, 1.75]\n",
    "#to access the elements in the list we use its index\n",
    "print(f\"I have selected some of the elements like {colors[0]} in 0, {colors[-1]} in -1 or 9, {colors[4]} in 4 th or -6.\")\n",
    "\n"
   ]
  },
  {
   "cell_type": "code",
   "execution_count": 30,
   "metadata": {},
   "outputs": [
    {
     "name": "stdout",
     "output_type": "stream",
     "text": [
      "I sliced from index 0 to 4 which resulted in ['white', 'orange', 'pink', 'yellow', 'red'].\n",
      "using negative index I would like to print from last five elements ['blue', 'green', 'brown', 'black', 'grey']\n",
      "slicing [0:5:2] => ['white', 'yellow']\n",
      "from backward ['grey', 'black', 'brown', 'green', 'blue', 'red', 'yellow', 'pink', 'orange', 'white']\n",
      "['grey', 'black', 'brown', 'green', 'blue', 'red', 'yellow', 'pink', 'orange', 'white']\n",
      "['black', 'brown', 'green', 'blue']\n",
      "['grey', 'black', 'brown', 'green', 'blue']\n"
     ]
    }
   ],
   "source": [
    "#Slicing = accessing the required part instead of entire list = list_name[start:end+1]\n",
    "print(f\"I sliced from index 0 to 4 which resulted in {colors[0:5]}.\")\n",
    "print(f\"using negative index I would like to print from last five elements {colors[-5:]}\")\n",
    "\n",
    "#Slicing using start stop and step=> [start:stop:step] \n",
    "print(f\"slicing [0:5:2] => {colors[0:5:3]}\")\n",
    "\n",
    "#Slicing using start stop and step => [start:stop:step] \n",
    "#Using slicing print from backward in the list\n",
    "#List =>     0        1        2         3       4       5        6        7        8       9\n",
    "colors = ['white', 'orange', 'pink', 'yellow', 'red', 'blue', 'green', 'brown', 'black', 'grey']\n",
    "#           -10      -9       -8        -7       -6      -5      -4      -3       -2       -1\n",
    "print(f\"from backward {colors[::-1]}\")\n",
    "#-1 is the step that says move backward, here there is no start or stop because we want to print from last to first.\n",
    "#if you want to print first five from back\n",
    "print(colors[::-1]) #['grey', 'black', 'brown', 'green', 'blue', 'red', 'yellow', 'pink', 'orange', 'white']\n",
    "print(colors[-2:-6:-1]) #['black', 'brown', 'green', 'blue']\n",
    "print(colors[-1:-6:-1]) #['grey', 'black', 'brown', 'green', 'blue']"
   ]
  },
  {
   "cell_type": "code",
   "execution_count": 29,
   "metadata": {},
   "outputs": [
    {
     "name": "stdout",
     "output_type": "stream",
     "text": [
      "False\n",
      "True\n"
     ]
    }
   ],
   "source": [
    "#in and not in operators in List\n",
    "colors = ['white', 'orange', 'pink', 'yellow', 'red', 'blue', 'green', 'brown', 'black', 'grey']\n",
    "#check if rose is present in the list or not\n",
    "print('rose' in colors) #output is False\n",
    "# check if lavendar is not there in the list\n",
    "print('lavendar' not in colors) #output is True"
   ]
  },
  {
   "cell_type": "code",
   "execution_count": 47,
   "metadata": {},
   "outputs": [
    {
     "name": "stdout",
     "output_type": "stream",
     "text": [
      "length is 3 and I have inserted my name in list too ['mitha', 'anu', 'ragu', 'manu']\n",
      "updated list ['mitha', 'anu', 'ragu', 'manu', 'Hanuman']\n",
      "updated list ['mitha', 'anu', 'ragu', 'manu', 'Hanuman', ['sara', 'jothi', 'mani', 'sugu']]\n",
      "after the extend, ['mitha', 'anu', 'ragu', 'manu', 'Hanuman', ['sara', 'jothi', 'mani', 'sugu'], 'sara', 'jothi', 'mani', 'sugu']\n",
      "removed the list inside the list ['mitha', 'anu', 'ragu', 'manu', 'Hanuman', 'sara', 'jothi', 'mani', 'sugu']\n",
      "After pop ['mitha', 'anu', 'ragu', 'manu', 'Hanuman', 'sara', 'jothi', 'mani']\n",
      "index of mitha is 0\n",
      "max is 68 and min is 18\n"
     ]
    }
   ],
   "source": [
    "#List Functions\n",
    "name = ['anu', 'ragu', 'manu']\n",
    "#1. Len function for knowing the length of the list => len(list_name)\n",
    "list_length = len(name)\n",
    "#2. Insert function for inserting the particular element in particular index => list_name.insert(index,element)\n",
    "name.insert(0,'mitha')\n",
    "print(f\"length is {list_length} and I have inserted my name in list too {name}\")\n",
    "#3. append function for appending the list with new elements in the last of the list\n",
    "name.append(\"Hanuman\")\n",
    "print(f\"updated list {name}\")\n",
    "#you can also append list of elements\n",
    "name.append(['sara', 'jothi', 'mani', 'sugu'])\n",
    "print(f\"updated list {name}\")\n",
    "#but this adds the list of elements into a single item, this is nested list\n",
    "#4. Extend function: In order to print them as extended list instead of nested list we use extend function\n",
    "name.extend(['sara', 'jothi', 'mani', 'sugu'])\n",
    "print(f\"after the extend, {name}\")\n",
    "#5. Remove function: To remove the elements from the list\n",
    "name.remove(['sara', 'jothi', 'mani', 'sugu'])\n",
    "print(f\"removed the list inside the list {name}\")\n",
    "#6. Pop function: to pop out the last element from the list\n",
    "name.pop()\n",
    "print(f\"After pop {name}\")\n",
    "#7. index function: to find the index of the particular element\n",
    "print(f\"index of mitha is {name.index('mitha')}\") \n",
    "#8. Min and Max function\n",
    "#lets take a age group of ladies hostel as list\n",
    "ladies_age = [21,24,26,18,34,52,68]\n",
    "minimum_age = min(ladies_age)\n",
    "maximum_age = max(ladies_age)\n",
    "print(f\"max is {maximum_age} and min is {minimum_age}\")"
   ]
  },
  {
   "cell_type": "code",
   "execution_count": 48,
   "metadata": {},
   "outputs": [
    {
     "name": "stdout",
     "output_type": "stream",
     "text": [
      "adding the two lists [1, 2, 3, 4, 5, 6]\n",
      "duplicated the items inside the lists [1, 2, 3, 1, 2, 3, 1, 2, 3]\n"
     ]
    }
   ],
   "source": [
    "#List operations : Addition and Multiplication\n",
    "\n",
    "a = [1,2,3]\n",
    "b = [4,5,6]\n",
    "\n",
    "# Addition => adding one list extending to another list\n",
    "add = a+b\n",
    "print(f\"adding the two lists {add}\")\n",
    "# Multiplication => Duplicating the items inside the list\n",
    "mul = a*3\n",
    "print(f\"duplicated the items inside the lists {mul}\")"
   ]
  },
  {
   "cell_type": "code",
   "execution_count": 55,
   "metadata": {},
   "outputs": [
    {
     "name": "stdout",
     "output_type": "stream",
     "text": [
      "index 1 : 3\n",
      "index 2 has another list, I need to print the second item in nested list : 4\n",
      "to print '8' : a[3][3][1] => 8\n",
      "to print '17' : a[6][2][2] => 17\n",
      "my current items in cart: ['apple', 'onions', 'mango', 'toothbrush', 'hairoil']\n",
      "my new items: ['keratin', 'straws', 'rosewater', 'hairoil']\n"
     ]
    }
   ],
   "source": [
    "#List = > Nested Lists\n",
    "\n",
    "l = [1,3,[2,4,6],6,7,[5,9]]\n",
    "\n",
    "#if you want to access the elements we use index\n",
    "print(f\"index 1 : {l[1]}\")\n",
    "\n",
    "#if you want to access the elements of the list inside the list we use two index\n",
    "print(f\"index 2 has another list, I need to print the second item in nested list : {l[2][1]}\")\n",
    "\n",
    "#you can have list inside list inside list......\n",
    "#example,\n",
    "a = [1,2,3,[4,5,6,[7,8,9],10],11,12,[13,14,[15,16,17,[18,19]]]]\n",
    "print(f\"to print '8' : a[3][3][1] => {a[3][3][1]}\")\n",
    "print(f\"to print '17' : a[6][2][2] => {a[6][2][2]}\")\n",
    "\n",
    "\n",
    "\n",
    "\n",
    "\n",
    "#Mutability of the list: means you can modify the items to another set of items or item\n",
    "\n",
    "ekart = ['apple', 'onions', 'carrot', 'toothbrush', 'hairoil']\n",
    "#suppose you want to remove carrot from the cart and wanna add mango\n",
    "ekart[2] = 'mango'\n",
    "print(f\"my current items in cart: {ekart}\")\n",
    "#suppose you want to replace all items except hairoil with ['keratin', 'straws', 'rosewater']\n",
    "ekart[0:4] = ['keratin', 'straws', 'rosewater']\n",
    "print(f\"my new items: {ekart}\")"
   ]
  },
  {
   "cell_type": "code",
   "execution_count": 64,
   "metadata": {},
   "outputs": [
    {
     "name": "stdout",
     "output_type": "stream",
     "text": [
      "Flavours are : ('vanilla', 'choco', 'pista', 'berry', 'orange')\n",
      "print only first three flavours => [start:end+1] => [:3] : ('vanilla', 'choco', 'pista')\n"
     ]
    }
   ],
   "source": [
    "#Tuples\n",
    "#tuples are immutable, but are similar to list, but represented as '()'\n",
    "flavours = ('vanilla', 'choco', 'pista', 'berry', 'orange')\n",
    "print(f\"Flavours are : {flavours}\")\n",
    "\n",
    "# Tuple is immutable, to check lets try to change choco to butterscotch\n",
    "#flavours[1] = 'butterscotch'\n",
    "#print(flavours) #==>This will give you an error!\n",
    "\n",
    "#this tuple seems to be not useful as you cannot change the items. But for some set of items we no need any changes\n",
    "#for such items we need tuples\n",
    "\n",
    "#we can use slicing to print only certain elements from the tuples\n",
    "print(f\"print only first three flavours => [start:end+1] => [:3] : {flavours[:3]}\")\n",
    "# we can also use negative indexing in tuples.\n",
    "# Tuples execution are much faster than list\n",
    "# Tuples are better used when we don't want to change the data\n",
    "\n",
    "\n"
   ]
  },
  {
   "cell_type": "code",
   "execution_count": 19,
   "metadata": {},
   "outputs": [
    {
     "name": "stdout",
     "output_type": "stream",
     "text": [
      "price of comb is: 25\n",
      "you can have dictionary with key and values with different or same data types: cheeku\n",
      "updated name: {1: 'skinny', 2: 'honey', 3: 'ramu', 4: 'tomy', 5: 'cheeku', 6: 'sai', 7: 'kuppuswami'}\n",
      "{'age': 23, 'colour': 'sandal', 'height': 1.54, 'weight': 68.0, 'favcolor': 'orange'}\n",
      "age changed to: {'age': 24, 'colour': 'sandal', 'height': 1.54, 'weight': 68.0, 'favcolor': 'orange'}\n",
      "updated dictionary: {'age': 24, 'colour': 'sandal', 'height': 1.54, 'weight': 68.0, 'favcolor': 'orange', 'favplace': 'tpt'}\n",
      "After deleting age: {'colour': 'sandal', 'height': 1.54, 'weight': 68.0, 'favcolor': 'orange', 'favplace': 'tpt'}\n"
     ]
    }
   ],
   "source": [
    "# Dictionaries => similar to list, but can store more complex data than list\n",
    "# Dictionary in real world is like words and thier meanings, \n",
    "# Similarly Dictionaries in programing world is like key and value pair. '{key:value, key:value,...}' used.\n",
    "prices = {'brush':30, 'tub':50, 'soap':70, 'comb':25, 'oil':10}\n",
    "#for printing the value you need to use it's key\n",
    "print(f\"price of comb is: {prices[\"comb\"]}\")\n",
    "# Note: dictionaries keys are case sensitives, you have to use same key!\n",
    "#another example for dictionary\n",
    "rollnum = {1:'madhu', 2:'honey', 3:'ramu', 4:'tomy', 5:'cheeku', 6:'sai', 7:'kuppuswami'}\n",
    "print(f\"you can have dictionary with key and values with different or same data types: {rollnum[5]}\")\n",
    "\n",
    "# Dictionaries are mutable\n",
    "rollnum[1] = 'skinny' \n",
    "print(f\"updated name: {rollnum}\")\n",
    "\n",
    "# For Dictionaries, there is a function called 'dict()'\n",
    "Honey = dict(age=23, colour = 'sandal', height = 1.54, weight = 68.0, favcolor = 'orange')\n",
    "print(Honey)\n",
    "\n",
    "#you can edit the values\n",
    "Honey['age'] = 24\n",
    "print(f\"age changed to: {Honey}\")\n",
    "# you can simply add items to the dictionary like below\n",
    "Honey['favplace'] = 'tpt'\n",
    "print(f\"updated dictionary: {Honey}\")\n",
    "\n",
    "# If you want to delete any key value pair, we use 'del' key word\n",
    "del Honey['age']\n",
    "print(f\"After deleting age: {Honey}\")\n",
    "\n"
   ]
  },
  {
   "cell_type": "code",
   "execution_count": 10,
   "metadata": {},
   "outputs": [
    {
     "name": "stdout",
     "output_type": "stream",
     "text": [
      "the age is: 23\n",
      "Updated prices: {'rose': 80, 'Jasmine': 60, 'marigold': 40, 'daisy': 30}\n",
      "After poping Jasmine: {'rose': 80, 'marigold': 40, 'daisy': 30}\n",
      "Get all the values from the dictionary: dict_values([80, 40, 30])\n",
      "Get all the keys from the dictionary: dict_keys(['rose', 'marigold', 'daisy'])\n",
      "Get all the items present in the dictionary: dict_items([('rose', 80), ('marigold', 40), ('daisy', 30)])\n"
     ]
    }
   ],
   "source": [
    "# In-Built method and functions in Dictionaries\n",
    "# Python has both methods and functions\n",
    "# Function=> Functions can be called only by its name, as it is defined independently\n",
    "# Method=> methods can’t be called by its name only, we need to invoke the class by a reference of that class in which it is defined, \n",
    "# i.e. method is defined within a class and hence they are dependent on that class.\n",
    "Honey = dict(age=23, colour = 'sandal', height = 1.54, weight = 68.0, favcolor = 'orange')\n",
    "#1. Get method => Get method returns value for the given key => 'list_name.get(key)'\n",
    "print(f\"the age is: {Honey.get('age')}\")\n",
    "#2. Update method => Used to update any key value pair inside existing dictionary => 'list_name.update(key)'\n",
    "prices = dict(rose = 60, Jasmine = 70, marigold = 40)\n",
    "updated_prices = dict(rose = 80, daisy = 30, Jasmine = 60)\n",
    "prices.update(updated_prices)\n",
    "print(f\"Updated prices: {prices}\")\n",
    "#3. Pop method => deletes the selected item from the list, List_name.pop(key)\n",
    "prices.pop('Jasmine')\n",
    "print(f\"After poping Jasmine: {prices}\")\n",
    "#4. value method => gets the values present in the dictionary\n",
    "print(f\"Get all the values from the dictionary: {prices.values()}\")\n",
    "#5. key method => gets the keys present in the dictionary\n",
    "print(f\"Get all the keys from the dictionary: {prices.keys()}\")\n",
    "#6. items method => It returns all the items from the dictionary as a key value pair.\n",
    "print(f\"Get all the items present in the dictionary: {prices.items()}\")"
   ]
  },
  {
   "cell_type": "code",
   "execution_count": 16,
   "metadata": {},
   "outputs": [
    {
     "name": "stdout",
     "output_type": "stream",
     "text": [
      "using set funtion: {0, 9, 2, 5}\n",
      "set of emotions: {'shock', 'laugh', 'cry', 'sad', 'smile', 'surprise', 'fear'}\n",
      "Set will remove the duplicates from numbers = '1,2,3,4,5,4,3,2,1' and prints {1, 2, 3, 4, 5}\n",
      "Set always prints the values in unorder {1, 34, 67, 20, 23, 45, 95}\n",
      "{'i', 'p', 's', 'a', 'f'}\n",
      "types_of_data: {True, 'honey', 29, 68.4}\n",
      "empty_set: {} and it's type is <class 'dict'>\n",
      "after we fill the empty_set: {1} and it's type is <class 'set'>\n",
      "empty_set: set() and it's type is <class 'set'>\n"
     ]
    }
   ],
   "source": [
    "# Sets : Similar to list but a set is a collection of unique elements\n",
    "# Set doesn't allow duplicates in it.\n",
    "# for set we use set([list_of_items]) fuction or {} to call a set.\n",
    "#using set function, \n",
    "new = set([5,9,0,2])\n",
    "print(f\"using set funtion: {new}\")\n",
    "# for example consider a set of emotions,\n",
    "emotions = {'laugh', 'cry', 'sad', 'fear', 'surprise', 'shock', 'smile'}\n",
    "print(f\"set of emotions: {emotions}\")\n",
    "# set can't have duplicates. If you have duplicates also it will remove it and prints the unique elements.\n",
    "numbers = {1,2,3,4,5,4,3,2,1}\n",
    "print(f\"Set will remove the duplicates from numbers = '1,2,3,4,5,4,3,2,1' and prints {numbers}\")\n",
    "# In set, elements are unordered, means it won't print in the order we give in set, \n",
    "# hence index can't be used to identify an element.\n",
    "Id = {45,23,1,67,95,34,20}\n",
    "print(f\"Set always prints the values in unorder {Id}\")\n",
    "alpha = {'i', 'a', 'p', 's', 'f'}\n",
    "print(alpha)\n",
    "# In set you can pass different types of datatypes at a time.\n",
    "types_of_data = {'honey', 29, 68.4, True}\n",
    "print(f\"types_of_data: {types_of_data}\")\n",
    "\n",
    "# Empty set => A set can be empty, But the empty set is considered as dictionary if we use {},\n",
    "empty_set = {}\n",
    "print(f\"empty_set: {empty_set} and it's type is {type(empty_set)}\")\n",
    "empty_set = {1}\n",
    "print(f\"after we fill the empty_set: {empty_set} and it's type is {type(empty_set)}\")\n",
    "# Hence to create a proper empty set we can use set function.\n",
    "Set_func = set()\n",
    "print(f\"empty_set: {Set_func} and it's type is {type(Set_func)}\")\n",
    "\n"
   ]
  },
  {
   "cell_type": "code",
   "execution_count": 27,
   "metadata": {},
   "outputs": [
    {
     "name": "stdout",
     "output_type": "stream",
     "text": [
      "Union of set A and B is : {1, 2, 3, 4, 5, 7, 8}\n",
      "Intersection of A and B sets: {1, 4, 5}\n",
      "Difference of A and B sets: {2, 3}\n",
      "Difference of B and A sets: {8, 7}\n",
      "Symmetric difference of A and B is: {2, 3, 7, 8}\n"
     ]
    },
    {
     "data": {
      "text/plain": [
       "'\\n recap: \\n     \"  | : union, & : intersection, - : difference, ^ : symmetric difference \"  \\n'"
      ]
     },
     "execution_count": 27,
     "metadata": {},
     "output_type": "execute_result"
    }
   ],
   "source": [
    "# Set operations1: Union, Intersection, Difference, Complement, Cartesian product\n",
    "\n",
    "#Lets create two sets seta and setb\n",
    "setA = set([1,2,3,4,5])\n",
    "setB = set([5,4,7,8,1])\n",
    "\n",
    "# Union : The combination of elements from two sets. Represented as '|' => setA | setB. Duplicates are removed.\n",
    "print(f\"Union of set A and B is : {setA | setB}\")\n",
    "\n",
    "# Intersection : The collection of elements that are in both sets. Represented as '&' => setA & setB.\n",
    "print(f\"Intersection of A and B sets: {setA & setB}\")\n",
    "\n",
    "# Difference : The collection of elements in the first set that are not in the second set. \n",
    "# represented as '-' => setA -  setB\n",
    "print(f\"Difference of A and B sets: {setA -  setB}\")\n",
    "print(f\"Difference of B and A sets: {setB -  setA}\")\n",
    "\n",
    "# Symmetric Difference: (A−B)∪(B−A), returns the elements that are either in A or B, But are not present in both.\n",
    "print(f\"Symmetric difference of A and B is: {setA ^ setB}\")\n",
    "\n",
    "'''\n",
    " recap: \n",
    "     \"  | : union, & : intersection, - : difference, ^ : symmetric difference \"  \n",
    "'''\n"
   ]
  },
  {
   "cell_type": "code",
   "execution_count": 33,
   "metadata": {},
   "outputs": [
    {
     "name": "stdout",
     "output_type": "stream",
     "text": [
      "<class 'set'>\n",
      "updated set of fruits after add: {'apple', 'gauva', 'amla', 'rambutan', 'pomo', 'orange'}\n",
      "updated set of fruits after remove: {'apple', 'gauva', 'amla', 'rambutan', 'orange'}\n",
      "'palm' is not there in set yet there will be no error when we use discard method\n"
     ]
    }
   ],
   "source": [
    "# Set Operations2 : Adding, Removing, discarding elements from the set using methods\n",
    "\n",
    "# lets have a set of fruits:\n",
    "fruits = set(['apple', 'orange', 'gauva', 'amla', 'pomo'])\n",
    "print(type(fruits))\n",
    "\n",
    "# 1. set_name.add(): To add an element into the set.\n",
    "fruits.add('rambutan')\n",
    "print(f\"updated set of fruits after add: {fruits}\")\n",
    "\n",
    "# 2. set_name.remove(): To remove an element from the set.\n",
    "fruits.remove('pomo')\n",
    "print(f\"updated set of fruits after remove: {fruits}\")\n",
    "#But remove method will cause an error if you remove unknown element from the set as it cannot search the number which is not present in the provided set.\n",
    "\n",
    "# 3. set_name.discard(): This will remove the element from the set and will not cause error if the element is not present\n",
    "fruits.discard('palm')\n",
    "print(f\"'palm' is not there in set yet there will be no error when we use discard method\")\n"
   ]
  },
  {
   "cell_type": "code",
   "execution_count": null,
   "metadata": {},
   "outputs": [],
   "source": []
  }
 ],
 "metadata": {
  "kernelspec": {
   "display_name": "Python 3",
   "language": "python",
   "name": "python3"
  },
  "language_info": {
   "codemirror_mode": {
    "name": "ipython",
    "version": 3
   },
   "file_extension": ".py",
   "mimetype": "text/x-python",
   "name": "python",
   "nbconvert_exporter": "python",
   "pygments_lexer": "ipython3",
   "version": "3.12.4"
  }
 },
 "nbformat": 4,
 "nbformat_minor": 2
}
